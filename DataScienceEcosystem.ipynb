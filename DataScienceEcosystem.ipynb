{
 "cells": [
  {
   "cell_type": "markdown",
   "id": "c650a5d3-21e0-415b-bc5f-dd8e37d0bcc1",
   "metadata": {},
   "source": [
    "# Data Science Tools and Ecosystem"
   ]
  },
  {
   "cell_type": "markdown",
   "id": "dd1bfee8-e619-45de-9e8c-11cd845d612f",
   "metadata": {},
   "source": [
    "In this notebook, Data Science Tools and Ecosystem are summarized."
   ]
  },
  {
   "cell_type": "markdown",
   "id": "9d0f7bec-e8b6-453b-9729-3e7f27b38f6d",
   "metadata": {},
   "source": [
    "**Objectives:**"
   ]
  },
  {
   "cell_type": "markdown",
   "id": "4773b154-f7a0-4878-8ede-a9330c93a5db",
   "metadata": {},
   "source": [
    "List popular languages for Data Science"
   ]
  },
  {
   "cell_type": "markdown",
   "id": "9a84a96c-df63-4c04-8332-cdb0754f2766",
   "metadata": {},
   "source": [
    "- TensorFlow\n",
    "- Pandas\n",
    "- Scikit-Learn\n",
    "- Perl\n",
    "- MatLab\n",
    "- NumPy"
   ]
  },
  {
   "cell_type": "markdown",
   "id": "fe30e65f-03cd-4b47-b97c-7f1e8e84c3bb",
   "metadata": {},
   "source": [
    "Some of the popular languages that Data Scientists use are:"
   ]
  },
  {
   "cell_type": "markdown",
   "id": "a055c0e3-43be-4744-b9c9-4083397f01ec",
   "metadata": {},
   "source": [
    "1. Python \n",
    "2. R \n",
    "3. SQL \n",
    "4. Scala \n",
    "5. Java \n",
    "6. C ++ \n",
    "7. Julia \n",
    "8. JavaScript \n",
    "9. PHP \n",
    "10. Go \n",
    "11. Ruby \n",
    "12. Visual Basic"
   ]
  },
  {
   "cell_type": "markdown",
   "id": "4587b8a6-bd8a-4120-be64-494544b4ce9e",
   "metadata": {},
   "source": [
    "Some of the commonly used libraries used by Data Scientists include:"
   ]
  },
  {
   "cell_type": "markdown",
   "id": "f5392bf8-52d8-44bc-a200-94a55837ef8f",
   "metadata": {},
   "source": [
    "1. Pandas \n",
    "2. Numpy \n",
    "3. Matplotlib\n",
    "4. Seaborn\n",
    "5. Scikit-learn\n",
    "6. Keras\n",
    "7. TensorFlow\n",
    "8. PyTorch\n",
    "9. Apache Spark\n",
    "10. Vegas\n",
    "11. Big DL\n",
    "12. Ggplot2"
   ]
  },
  {
   "cell_type": "markdown",
   "id": "b4fcf07a-a37b-4746-a7b7-93b15d83e7c8",
   "metadata": {},
   "source": [
    "| *Data Science Tools* |\n",
    "|--------------------------:|\n",
    "|Anaconda|\n",
    "|Jupiter Notebooks|\n",
    "|R Studio|\n",
    "|Spyder|\n",
    "|Zeppelin|\n"
   ]
  },
  {
   "cell_type": "markdown",
   "id": "e17eab07-7fd3-4aab-afa0-bcf8fbcebb81",
   "metadata": {},
   "source": [
    "### Below are a few examples of evaluating arithmetic expressions in Python"
   ]
  },
  {
   "cell_type": "markdown",
   "id": "ddb10762-7013-4e10-9086-4f31b114bb53",
   "metadata": {},
   "source": [
    "This a simple arithmetic expression to mutiply then add integers"
   ]
  },
  {
   "cell_type": "code",
   "execution_count": 1,
   "id": "fcd87b2f-3cc1-4b81-9232-c4f066c4d938",
   "metadata": {
    "tags": []
   },
   "outputs": [
    {
     "data": {
      "text/plain": [
       "17"
      ]
     },
     "execution_count": 1,
     "metadata": {},
     "output_type": "execute_result"
    }
   ],
   "source": [
    "(3*4)+5"
   ]
  },
  {
   "cell_type": "markdown",
   "id": "799863c4-ba77-4526-b162-b993819f8a31",
   "metadata": {},
   "source": [
    "This will convert 200 minutes to hours by diving by 60"
   ]
  },
  {
   "cell_type": "code",
   "execution_count": 2,
   "id": "52ddf0e0-708b-4d52-b57f-df6c4c4c4f33",
   "metadata": {
    "tags": []
   },
   "outputs": [
    {
     "data": {
      "text/plain": [
       "3.3333333333333335"
      ]
     },
     "execution_count": 2,
     "metadata": {},
     "output_type": "execute_result"
    }
   ],
   "source": [
    "200/60"
   ]
  },
  {
   "cell_type": "markdown",
   "id": "0bd22460-8d1c-472d-a1da-480be88cc5ec",
   "metadata": {},
   "source": [
    "## Author"
   ]
  },
  {
   "cell_type": "markdown",
   "id": "c92bc403-1a1c-4ba3-aac7-e9bcbaac9fe5",
   "metadata": {},
   "source": [
    "Anna Smirnova Berezina"
   ]
  },
  {
   "cell_type": "code",
   "execution_count": null,
   "id": "2b517c40-aa2f-43ff-bac8-84e1a2459e74",
   "metadata": {},
   "outputs": [],
   "source": []
  }
 ],
 "metadata": {
  "kernelspec": {
   "display_name": "Python",
   "language": "python",
   "name": "conda-env-python-py"
  },
  "language_info": {
   "codemirror_mode": {
    "name": "ipython",
    "version": 3
   },
   "file_extension": ".py",
   "mimetype": "text/x-python",
   "name": "python",
   "nbconvert_exporter": "python",
   "pygments_lexer": "ipython3",
   "version": "3.7.12"
  }
 },
 "nbformat": 4,
 "nbformat_minor": 5
}
